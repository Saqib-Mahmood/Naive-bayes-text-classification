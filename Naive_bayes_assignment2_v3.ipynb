{
  "nbformat": 4,
  "nbformat_minor": 0,
  "metadata": {
    "anaconda-cloud": {},
    "kernelspec": {
      "name": "python3",
      "display_name": "Python 3"
    },
    "language_info": {
      "codemirror_mode": {
        "name": "ipython",
        "version": 3
      },
      "file_extension": ".py",
      "mimetype": "text/x-python",
      "name": "python",
      "nbconvert_exporter": "python",
      "pygments_lexer": "ipython3",
      "version": "3.5.1"
    },
    "colab": {
      "name": "Naive-bayes-assignment2_v2.ipynb",
      "provenance": [],
      "toc_visible": true,
      "include_colab_link": true
    },
    "accelerator": "GPU"
  },
  "cells": [
    {
      "cell_type": "markdown",
      "metadata": {
        "id": "view-in-github",
        "colab_type": "text"
      },
      "source": [
        "<a href=\"https://colab.research.google.com/github/Saqib-Mahmood/Naive-bayes-text-classification/blob/master/Naive_bayes_assignment2_v3.ipynb\" target=\"_parent\"><img src=\"https://colab.research.google.com/assets/colab-badge.svg\" alt=\"Open In Colab\"/></a>"
      ]
    },
    {
      "cell_type": "markdown",
      "metadata": {
        "id": "R5bab7a9AhNt",
        "colab_type": "text"
      },
      "source": [
        "# In Depth: Naive Bayes Classification"
      ]
    },
    {
      "cell_type": "markdown",
      "metadata": {
        "deletable": true,
        "editable": true,
        "id": "9_tpeBrEAhNu",
        "colab_type": "text"
      },
      "source": [
        "The previous four sections have given a general overview of the concepts of machine learning.\n",
        "In this section and the ones that follow, we will be taking a closer look at several specific algorithms for supervised and unsupervised learning, starting here with naive Bayes classification.\n",
        "\n",
        "Naive Bayes models are a group of extremely fast and simple classification algorithms that are often suitable for very high-dimensional datasets.\n",
        "Because they are so fast and have so few tunable parameters, they end up being very useful as a quick-and-dirty baseline for a classification problem.\n",
        "This section will focus on an intuitive explanation of how naive Bayes classifiers work, followed by a couple examples of them in action on some datasets."
      ]
    },
    {
      "cell_type": "markdown",
      "metadata": {
        "deletable": true,
        "editable": true,
        "id": "PGOlJ9G7AhNw",
        "colab_type": "text"
      },
      "source": [
        "## Bayesian Classification\n",
        "\n",
        "Naive Bayes classifiers are built on Bayesian classification methods.\n",
        "These rely on Bayes's theorem, which is an equation describing the relationship of conditional probabilities of statistical quantities.\n",
        "In Bayesian classification, we're interested in finding the probability of a label given some observed features, which we can write as $P(L~|~{\\rm features})$.\n",
        "Bayes's theorem tells us how to express this in terms of quantities we can compute more directly:\n",
        "\n",
        "$$\n",
        "P(L~|~{\\rm features}) = \\frac{P({\\rm features}~|~L)P(L)}{P({\\rm features})}\n",
        "$$\n",
        "\n",
        "If we are trying to decide between two labels—let's call them $L_1$ and $L_2$—then one way to make this decision is to compute the ratio of the posterior probabilities for each label:\n",
        "\n",
        "$$\n",
        "\\frac{P(L_1~|~{\\rm features})}{P(L_2~|~{\\rm features})} = \\frac{P({\\rm features}~|~L_1)}{P({\\rm features}~|~L_2)}\\frac{P(L_1)}{P(L_2)}\n",
        "$$\n",
        "\n",
        "All we need now is some model by which we can compute $P({\\rm features}~|~L_i)$ for each label.\n",
        "Such a model is called a *generative model* because it specifies the hypothetical random process that generates the data.\n",
        "Specifying this generative model for each label is the main piece of the training of such a Bayesian classifier.\n",
        "The general version of such a training step is a very difficult task, but we can make it simpler through the use of some simplifying assumptions about the form of this model.\n",
        "\n",
        "This is where the \"naive\" in \"naive Bayes\" comes in: if we make very naive assumptions about the generative model for each label, we can find a rough approximation of the generative model for each class, and then proceed with the Bayesian classification.\n",
        "Different types of naive Bayes classifiers rest on different naive assumptions about the data, and we will examine a few of these in the following sections.\n",
        "\n",
        "We begin with the standard imports:"
      ]
    },
    {
      "cell_type": "markdown",
      "metadata": {
        "deletable": true,
        "editable": true,
        "id": "-gmQudYKAhN2",
        "colab_type": "text"
      },
      "source": [
        "## Gaussian Naive Bayes\n",
        "\n",
        "Perhaps the easiest naive Bayes classifier to understand is Gaussian naive Bayes.\n",
        "In this classifier, the assumption is that *data from each label is drawn from a simple Gaussian distribution*.\n",
        "Imagine that you have the following data:"
      ]
    },
    {
      "cell_type": "markdown",
      "metadata": {
        "deletable": true,
        "editable": true,
        "id": "PPTZivOFAhN9",
        "colab_type": "text"
      },
      "source": [
        "One extremely fast way to create a simple model is to assume that the data is described by a Gaussian distribution with no covariance between dimensions.\n",
        "This model can be fit by simply finding the mean and standard deviation of the points within each label, which is all you need to define such a distribution.\n",
        "The result of this naive Gaussian assumption is shown in the following figure:"
      ]
    },
    {
      "cell_type": "markdown",
      "metadata": {
        "deletable": true,
        "editable": true,
        "id": "6Mmno_1YAhN-",
        "colab_type": "text"
      },
      "source": [
        "![(run code in Appendix to generate image)](https://github.com/jakevdp/PythonDataScienceHandbook/blob/master/notebooks/figures/05.05-gaussian-NB.png?raw=1)\n",
        "[figure source in Appendix](06.00-Figure-Code.ipynb#Gaussian-Naive-Bayes)"
      ]
    },
    {
      "cell_type": "markdown",
      "metadata": {
        "collapsed": true,
        "deletable": true,
        "editable": true,
        "id": "Etn504bWAhOA",
        "colab_type": "text"
      },
      "source": [
        "The ellipses here represent the Gaussian generative model for each label, with larger probability toward the center of the ellipses.\n",
        "With this generative model in place for each class, we have a simple recipe to compute the likelihood $P({\\rm features}~|~L_1)$ for any data point, and thus we can quickly compute the posterior ratio and determine which label is the most probable for a given point.\n",
        "\n",
        "This procedure is implemented in Scikit-Learn's ``sklearn.naive_bayes.GaussianNB`` estimator:"
      ]
    },
    {
      "cell_type": "markdown",
      "metadata": {
        "deletable": true,
        "editable": true,
        "id": "QYIfuJtWAhOG",
        "colab_type": "text"
      },
      "source": [
        "Now let's generate some new data and predict the label:"
      ]
    },
    {
      "cell_type": "markdown",
      "metadata": {
        "deletable": true,
        "editable": true,
        "id": "W4XxDqiEAhOK",
        "colab_type": "text"
      },
      "source": [
        "Now we can plot this new data to get an idea of where the decision boundary is:"
      ]
    },
    {
      "cell_type": "markdown",
      "metadata": {
        "deletable": true,
        "editable": true,
        "id": "z5E0gFTvAhOP",
        "colab_type": "text"
      },
      "source": [
        "We see a slightly curved boundary in the classifications—in general, the boundary in Gaussian naive Bayes is quadratic.\n",
        "\n",
        "A nice piece of this Bayesian formalism is that it naturally allows for probabilistic classification, which we can compute using the ``predict_proba`` method:"
      ]
    },
    {
      "cell_type": "markdown",
      "metadata": {
        "deletable": true,
        "editable": true,
        "id": "NJ7A6TUxAhOU",
        "colab_type": "text"
      },
      "source": [
        "The columns give the posterior probabilities of the first and second label, respectively.\n",
        "If you are looking for estimates of uncertainty in your classification, Bayesian approaches like this can be a useful approach.\n",
        "\n",
        "Of course, the final classification will only be as good as the model assumptions that lead to it, which is why Gaussian naive Bayes often does not produce very good results.\n",
        "Still, in many cases—especially as the number of features becomes large—this assumption is not detrimental enough to prevent Gaussian naive Bayes from being a useful method."
      ]
    },
    {
      "cell_type": "markdown",
      "metadata": {
        "deletable": true,
        "editable": true,
        "id": "NIbv5CmSAhOV",
        "colab_type": "text"
      },
      "source": [
        "## Multinomial Naive Bayes\n",
        "\n",
        "The Gaussian assumption just described is by no means the only simple assumption that could be used to specify the generative distribution for each label.\n",
        "Another useful example is multinomial naive Bayes, where the features are assumed to be generated from a simple multinomial distribution.\n",
        "The multinomial distribution describes the probability of observing counts among a number of categories, and thus multinomial naive Bayes is most appropriate for features that represent counts or count rates.\n",
        "\n",
        "The idea is precisely the same as before, except that instead of modeling the data distribution with the best-fit Gaussian, we model the data distribuiton with a best-fit multinomial distribution."
      ]
    },
    {
      "cell_type": "markdown",
      "metadata": {
        "deletable": true,
        "editable": true,
        "id": "uSNUO3_yAhOW",
        "colab_type": "text"
      },
      "source": [
        "### Example: Classifying Text\n",
        "\n",
        "One place where multinomial naive Bayes is often used is in text classification, where the features are related to word counts or frequencies within the documents to be classified.\n",
        "We discussed the extraction of such features from text in [Feature Engineering](05.04-Feature-Engineering.ipynb); here we will use the sparse word count features from the 20 Newsgroups corpus to show how we might classify these short documents into categories.\n",
        "\n",
        "Let's download the data and take a look at the target names:"
      ]
    },
    {
      "cell_type": "markdown",
      "metadata": {
        "id": "FYwsKt6KM7KX",
        "colab_type": "text"
      },
      "source": [
        "#Highest information gain (Task1)\n",
        " examine the words\n",
        "with highest information gain for discriminating the classes."
      ]
    },
    {
      "cell_type": "code",
      "metadata": {
        "id": "RWSZLI9NPZYY",
        "colab_type": "code",
        "colab": {}
      },
      "source": [
        "\n",
        "from sklearn.datasets import fetch_20newsgroups\n",
        "\n",
        "from sklearn.feature_selection import mutual_info_classif\n",
        "\n",
        "from sklearn.feature_extraction.text import CountVectorizer\n",
        "\n",
        "\n",
        "newsgroups_train = fetch_20newsgroups(subset='train')\n",
        "\n",
        "X, Y = newsgroups_train.data, newsgroups_train.target\n",
        "\n",
        "cv = CountVectorizer(max_df=0.95, min_df=2, max_features=10000, stop_words='english')\n",
        "\n",
        "X_vec = cv.fit_transform(X)\n",
        "\n",
        "res = dict(zip(cv.get_feature_names(), mutual_info_classif(X_vec, Y, discrete_features=True)))\n"
      ],
      "execution_count": 0,
      "outputs": []
    },
    {
      "cell_type": "markdown",
      "metadata": {
        "id": "o8j150ACDk64",
        "colab_type": "text"
      },
      "source": [
        "###10 heightest words with highest imformation gain"
      ]
    },
    {
      "cell_type": "code",
      "metadata": {
        "id": "oitkwEmtJKNx",
        "colab_type": "code",
        "outputId": "741d10fa-67de-4129-d399-3fa899e5fceb",
        "colab": {
          "base_uri": "https://localhost:8080/",
          "height": 212
        }
      },
      "source": [
        "# Python program to demonstrate  \n",
        "# finding 3 highest values in a Dictionary  \n",
        "  \n",
        "from collections import Counter \n",
        "  \n",
        "# Initial Dictionary \n",
        "#my_dict = {'A': 67, 'B': 23, 'C': 45,  \n",
        " #          'D': 56, 'E': 12, 'F': 69} \n",
        "my_dict=res\n",
        "\n",
        "k = Counter(my_dict) \n",
        "  \n",
        "# Finding 3 highest values \n",
        "high = k.most_common(10)  \n",
        "  \n",
        "#print(\"Initial Dictionary:\") \n",
        "#print(my_dict, \"\\n\") \n",
        "  \n",
        "  \n",
        "print(\"Dictionary with 10 highest values:\") \n",
        "print(\"Keys: Values\") \n",
        "  \n",
        "for i in high: \n",
        "    print(i[0],\" :\",i[1],\" \")"
      ],
      "execution_count": 4,
      "outputs": [
        {
          "output_type": "stream",
          "text": [
            "Dictionary with 3 highest values:\n",
            "Keys: Values\n",
            "god  : 0.11842887420552509  \n",
            "windows  : 0.11556899810588968  \n",
            "people  : 0.09489496408774446  \n",
            "sale  : 0.08852321297227296  \n",
            "clipper  : 0.08667923282924951  \n",
            "government  : 0.08652451166093075  \n",
            "dod  : 0.08155877057259635  \n",
            "team  : 0.08027182379256753  \n",
            "car  : 0.0796989596134786  \n",
            "writes  : 0.07667764961834192  \n"
          ],
          "name": "stdout"
        }
      ]
    },
    {
      "cell_type": "markdown",
      "metadata": {
        "id": "muFkGZB8libh",
        "colab_type": "text"
      },
      "source": [
        "#Task2\n",
        "###How accurate is Rainbow over the training set? You can command Rainbow to classify all the data in the training set"
      ]
    },
    {
      "cell_type": "code",
      "metadata": {
        "deletable": true,
        "editable": true,
        "id": "rEC1SHX7AhOX",
        "colab_type": "code",
        "outputId": "0ba83c81-74a2-4f89-d17b-66e2e9bef146",
        "colab": {
          "base_uri": "https://localhost:8080/",
          "height": 342
        }
      },
      "source": [
        "from sklearn.datasets import fetch_20newsgroups\n",
        "\n",
        "data = fetch_20newsgroups()\n",
        "data.target_names"
      ],
      "execution_count": 5,
      "outputs": [
        {
          "output_type": "execute_result",
          "data": {
            "text/plain": [
              "['alt.atheism',\n",
              " 'comp.graphics',\n",
              " 'comp.os.ms-windows.misc',\n",
              " 'comp.sys.ibm.pc.hardware',\n",
              " 'comp.sys.mac.hardware',\n",
              " 'comp.windows.x',\n",
              " 'misc.forsale',\n",
              " 'rec.autos',\n",
              " 'rec.motorcycles',\n",
              " 'rec.sport.baseball',\n",
              " 'rec.sport.hockey',\n",
              " 'sci.crypt',\n",
              " 'sci.electronics',\n",
              " 'sci.med',\n",
              " 'sci.space',\n",
              " 'soc.religion.christian',\n",
              " 'talk.politics.guns',\n",
              " 'talk.politics.mideast',\n",
              " 'talk.politics.misc',\n",
              " 'talk.religion.misc']"
            ]
          },
          "metadata": {
            "tags": []
          },
          "execution_count": 5
        }
      ]
    },
    {
      "cell_type": "markdown",
      "metadata": {
        "deletable": true,
        "editable": true,
        "id": "uQ0O8OyVAhOb",
        "colab_type": "text"
      },
      "source": [
        "For simplicity here, we will select just a few of these categories, and download the training and testing set:"
      ]
    },
    {
      "cell_type": "code",
      "metadata": {
        "deletable": true,
        "editable": true,
        "id": "o1asNi1vAhOc",
        "colab_type": "code",
        "colab": {}
      },
      "source": [
        "train = fetch_20newsgroups(subset='train')\n",
        "test = fetch_20newsgroups(subset='test')"
      ],
      "execution_count": 0,
      "outputs": []
    },
    {
      "cell_type": "markdown",
      "metadata": {
        "deletable": true,
        "editable": true,
        "id": "iJoSxfcPAhOl",
        "colab_type": "text"
      },
      "source": [
        "In order to use this data for machine learning, we need to be able to convert the content of each string into a vector of numbers.\n",
        "For this we will use the TF-IDF vectorizer (discussed in [Feature Engineering](05.04-Feature-Engineering.ipynb)), and create a pipeline that attaches it to a multinomial naive Bayes classifier:"
      ]
    },
    {
      "cell_type": "code",
      "metadata": {
        "deletable": true,
        "editable": true,
        "id": "mLfB0y-bAhOm",
        "colab_type": "code",
        "colab": {}
      },
      "source": [
        "from sklearn.feature_extraction.text import TfidfVectorizer\n",
        "from sklearn.naive_bayes import MultinomialNB\n",
        "from sklearn.pipeline import make_pipeline\n",
        "\n",
        "model = make_pipeline(TfidfVectorizer(), MultinomialNB())"
      ],
      "execution_count": 0,
      "outputs": []
    },
    {
      "cell_type": "markdown",
      "metadata": {
        "deletable": true,
        "editable": true,
        "id": "CptNWLqXAhOq",
        "colab_type": "text"
      },
      "source": [
        "With this pipeline, we can apply the model to the training data, and predict labels for the test data:"
      ]
    },
    {
      "cell_type": "code",
      "metadata": {
        "deletable": true,
        "editable": true,
        "id": "-2FYDz55AhOr",
        "colab_type": "code",
        "colab": {}
      },
      "source": [
        "model.fit(train.data, train.target)\n",
        "labels = model.predict(test.data)"
      ],
      "execution_count": 0,
      "outputs": []
    },
    {
      "cell_type": "code",
      "metadata": {
        "id": "awRN23PmCVU5",
        "colab_type": "code",
        "colab": {
          "base_uri": "https://localhost:8080/",
          "height": 521
        },
        "outputId": "4bd8e8da-d491-40c1-fe56-1ceb64334db8"
      },
      "source": [
        "from sklearn.metrics import classification_report\n",
        "print(\"Classification report for sklearn of model\\n\\n\\n\\n\",classification_report(test.target, labels))\n"
      ],
      "execution_count": 11,
      "outputs": [
        {
          "output_type": "stream",
          "text": [
            "Classification report for sklearn of model\n",
            "\n",
            "\n",
            "\n",
            "               precision    recall  f1-score   support\n",
            "\n",
            "           0       0.80      0.52      0.63       319\n",
            "           1       0.81      0.65      0.72       389\n",
            "           2       0.82      0.65      0.73       394\n",
            "           3       0.67      0.78      0.72       392\n",
            "           4       0.86      0.77      0.81       385\n",
            "           5       0.89      0.75      0.82       395\n",
            "           6       0.93      0.69      0.80       390\n",
            "           7       0.85      0.92      0.88       396\n",
            "           8       0.94      0.93      0.93       398\n",
            "           9       0.92      0.90      0.91       397\n",
            "          10       0.89      0.97      0.93       399\n",
            "          11       0.59      0.97      0.74       396\n",
            "          12       0.84      0.60      0.70       393\n",
            "          13       0.92      0.74      0.82       396\n",
            "          14       0.84      0.89      0.87       394\n",
            "          15       0.44      0.98      0.61       398\n",
            "          16       0.64      0.94      0.76       364\n",
            "          17       0.93      0.91      0.92       376\n",
            "          18       0.96      0.42      0.58       310\n",
            "          19       0.97      0.14      0.24       251\n",
            "\n",
            "    accuracy                           0.77      7532\n",
            "   macro avg       0.83      0.76      0.76      7532\n",
            "weighted avg       0.82      0.77      0.77      7532\n",
            "\n"
          ],
          "name": "stdout"
        }
      ]
    },
    {
      "cell_type": "markdown",
      "metadata": {
        "id": "iNq3duQCCUkC",
        "colab_type": "text"
      },
      "source": [
        ""
      ]
    },
    {
      "cell_type": "markdown",
      "metadata": {
        "deletable": true,
        "editable": true,
        "id": "GReCYXSNAhOv",
        "colab_type": "text"
      },
      "source": [
        "Now that we have predicted the labels for the test data, we can evaluate them to learn about the performance of the estimator.\n",
        "For example, here is the confusion matrix between the true and predicted labels for the test data:"
      ]
    },
    {
      "cell_type": "markdown",
      "metadata": {
        "deletable": true,
        "editable": true,
        "id": "MztewryxAhOz",
        "colab_type": "text"
      },
      "source": [
        "Evidently, even this very simple classifier can successfully separate space talk from computer talk, but it gets confused between talk about religion and talk about Christianity.\n",
        "This is perhaps an expected area of confusion!\n",
        "\n",
        "The very cool thing here is that we now have the tools to determine the category for *any* string, using the ``predict()`` method of this pipeline.\n",
        "Here's a quick utility function that will return the prediction for a single string:"
      ]
    },
    {
      "cell_type": "markdown",
      "metadata": {
        "id": "zOyK2wZqCp9C",
        "colab_type": "text"
      },
      "source": [
        "##accuracy"
      ]
    },
    {
      "cell_type": "code",
      "metadata": {
        "id": "OUxkr5grKbnC",
        "colab_type": "code",
        "outputId": "7312f80c-bdab-41bb-db59-972412bc04a2",
        "colab": {
          "base_uri": "https://localhost:8080/",
          "height": 33
        }
      },
      "source": [
        "\n",
        "true = 0\n",
        "for i in range(7532):\n",
        "  if(labels[i] == test.target[i]):\n",
        "    true = true + 1\n",
        "\n",
        "accuracy=true/7532\n",
        "print(accuracy)"
      ],
      "execution_count": 12,
      "outputs": [
        {
          "output_type": "stream",
          "text": [
            "0.7738980350504514\n"
          ],
          "name": "stdout"
        }
      ]
    },
    {
      "cell_type": "code",
      "metadata": {
        "deletable": true,
        "editable": true,
        "id": "JSfic6lXAhO1",
        "colab_type": "code",
        "colab": {}
      },
      "source": [
        "def predict_category(s, train=train, model=model):\n",
        "    pred = model.predict([s])\n",
        "    return train.target_names[pred[0]]"
      ],
      "execution_count": 0,
      "outputs": []
    },
    {
      "cell_type": "markdown",
      "metadata": {
        "deletable": true,
        "editable": true,
        "id": "3klSKLTtAhO4",
        "colab_type": "text"
      },
      "source": [
        "Let's try it out:"
      ]
    },
    {
      "cell_type": "code",
      "metadata": {
        "deletable": true,
        "editable": true,
        "id": "mQkGcTVxAhO5",
        "colab_type": "code",
        "outputId": "1cc1f8f6-8fda-4b1a-86d9-fde1dd3bf2d8",
        "colab": {
          "base_uri": "https://localhost:8080/",
          "height": 33
        }
      },
      "source": [
        "predict_category('sending a payload to the ISS')"
      ],
      "execution_count": 14,
      "outputs": [
        {
          "output_type": "execute_result",
          "data": {
            "text/plain": [
              "'sci.space'"
            ]
          },
          "metadata": {
            "tags": []
          },
          "execution_count": 14
        }
      ]
    },
    {
      "cell_type": "code",
      "metadata": {
        "deletable": true,
        "editable": true,
        "id": "_-gIJ4hcAhPE",
        "colab_type": "code",
        "outputId": "888150f3-67e1-4e72-ac65-1dd7f71d5b35",
        "colab": {
          "base_uri": "https://localhost:8080/",
          "height": 33
        }
      },
      "source": [
        "predict_category('discussing islam vs atheism')"
      ],
      "execution_count": 15,
      "outputs": [
        {
          "output_type": "execute_result",
          "data": {
            "text/plain": [
              "'alt.atheism'"
            ]
          },
          "metadata": {
            "tags": []
          },
          "execution_count": 15
        }
      ]
    },
    {
      "cell_type": "code",
      "metadata": {
        "deletable": true,
        "editable": true,
        "id": "DbVxZ5JmAhPK",
        "colab_type": "code",
        "outputId": "cfae2eb1-150d-43a7-fc9d-229279a2e367",
        "colab": {
          "base_uri": "https://localhost:8080/",
          "height": 33
        }
      },
      "source": [
        "predict_category('determining the screen resolution')"
      ],
      "execution_count": 16,
      "outputs": [
        {
          "output_type": "execute_result",
          "data": {
            "text/plain": [
              "'comp.graphics'"
            ]
          },
          "metadata": {
            "tags": []
          },
          "execution_count": 16
        }
      ]
    },
    {
      "cell_type": "markdown",
      "metadata": {
        "deletable": true,
        "editable": true,
        "id": "MY8vVr5FAhPN",
        "colab_type": "text"
      },
      "source": [
        "Remember that this is nothing more sophisticated than a simple probability model for the (weighted) frequency of each word in the string; nevertheless, the result is striking.\n",
        "Even a very naive algorithm, when used carefully and trained on a large set of high-dimensional data, can be surprisingly effective."
      ]
    },
    {
      "cell_type": "markdown",
      "metadata": {
        "deletable": true,
        "editable": true,
        "id": "Yk8MearuAhPO",
        "colab_type": "text"
      },
      "source": [
        "## When to Use Naive Bayes\n",
        "\n",
        "Because naive Bayesian classifiers make such stringent assumptions about data, they will generally not perform as well as a more complicated model.\n",
        "That said, they have several advantages:\n",
        "\n",
        "- They are extremely fast for both training and prediction\n",
        "- They provide straightforward probabilistic prediction\n",
        "- They are often very easily interpretable\n",
        "- They have very few (if any) tunable parameters\n",
        "\n",
        "These advantages mean a naive Bayesian classifier is often a good choice as an initial baseline classification.\n",
        "If it performs suitably, then congratulations: you have a very fast, very interpretable classifier for your problem.\n",
        "If it does not perform well, then you can begin exploring more sophisticated models, with some baseline knowledge of how well they should perform.\n",
        "\n",
        "Naive Bayes classifiers tend to perform especially well in one of the following situations:\n",
        "\n",
        "- When the naive assumptions actually match the data (very rare in practice)\n",
        "- For very well-separated categories, when model complexity is less important\n",
        "- For very high-dimensional data, when model complexity is less important\n",
        "\n",
        "The last two points seem distinct, but they actually are related: as the dimension of a dataset grows, it is much less likely for any two points to be found close together (after all, they must be close in *every single dimension* to be close overall).\n",
        "This means that clusters in high dimensions tend to be more separated, on average, than clusters in low dimensions, assuming the new dimensions actually add information.\n",
        "For this reason, simplistic classifiers like naive Bayes tend to work as well or better than more complicated classifiers as the dimensionality grows: once you have enough data, even a simple model can be very powerful."
      ]
    },
    {
      "cell_type": "markdown",
      "metadata": {
        "id": "2JufQspVlIt6",
        "colab_type": "text"
      },
      "source": [
        ""
      ]
    },
    {
      "cell_type": "markdown",
      "metadata": {
        "id": "ga9_P_fDmMp8",
        "colab_type": "text"
      },
      "source": [
        "#Task3\n",
        "Plot a graph showing the test set accuracy as you vary the number\n",
        "of training examples. Use training sets of size 2/100, 6/100, 20/100, and 70/100, using\n",
        "the remaining examples as your test set. \n"
      ]
    },
    {
      "cell_type": "code",
      "metadata": {
        "id": "ig-yNuhS7Wnp",
        "colab_type": "code",
        "colab": {}
      },
      "source": [
        "from sklearn.model_selection import train_test_split\n",
        "from sklearn.feature_extraction.text import TfidfVectorizer\n",
        "from sklearn.naive_bayes import MultinomialNB\n",
        "from sklearn.pipeline import make_pipeline\n",
        "\n",
        "# 0.99 means 99% test set and 1 % training set, \n",
        "# 0.3 means  30% test set and 70% training set \n",
        "test=[0.99, 0.98, 0.97, 0.96, 0.94, 0.9, 0.8, 0.7, 0.6, 0.5, 0.3]\n",
        "\n",
        "acc=[]\n",
        "for i in range(len(test)):\n",
        "\n",
        "  dataset = fetch_20newsgroups(shuffle=True, random_state=3)\n",
        "  X_train, X_test, y_train, y_test = train_test_split(dataset.data, dataset.target, test_size=test[i], random_state=0)\n",
        "\n",
        "  model6 = make_pipeline(TfidfVectorizer(), MultinomialNB())\n",
        "\n",
        "  model6.fit(X_train,y_train)\n",
        "  \n",
        "  labels = model6.predict( X_test)\n",
        "  \n",
        "  true = 0\n",
        "  for i in range(len(y_test)-1):\n",
        "    if(labels[i] == y_test[i]):\n",
        "      true = true + 1\n",
        "\n",
        "  accuracy_2=true/len(y_test)\n",
        "  acc.append(accuracy_2)"
      ],
      "execution_count": 0,
      "outputs": []
    },
    {
      "cell_type": "code",
      "metadata": {
        "id": "qRGn1GHj7qiT",
        "colab_type": "code",
        "outputId": "6985d6c5-6bad-4ce9-a760-bb8ffcf4137c",
        "colab": {
          "base_uri": "https://localhost:8080/",
          "height": 293
        }
      },
      "source": [
        "model6"
      ],
      "execution_count": 18,
      "outputs": [
        {
          "output_type": "execute_result",
          "data": {
            "text/plain": [
              "Pipeline(memory=None,\n",
              "         steps=[('tfidfvectorizer',\n",
              "                 TfidfVectorizer(analyzer='word', binary=False,\n",
              "                                 decode_error='strict',\n",
              "                                 dtype=<class 'numpy.float64'>,\n",
              "                                 encoding='utf-8', input='content',\n",
              "                                 lowercase=True, max_df=1.0, max_features=None,\n",
              "                                 min_df=1, ngram_range=(1, 1), norm='l2',\n",
              "                                 preprocessor=None, smooth_idf=True,\n",
              "                                 stop_words=None, strip_accents=None,\n",
              "                                 sublinear_tf=False,\n",
              "                                 token_pattern='(?u)\\\\b\\\\w\\\\w+\\\\b',\n",
              "                                 tokenizer=None, use_idf=True,\n",
              "                                 vocabulary=None)),\n",
              "                ('multinomialnb',\n",
              "                 MultinomialNB(alpha=1.0, class_prior=None, fit_prior=True))],\n",
              "         verbose=False)"
            ]
          },
          "metadata": {
            "tags": []
          },
          "execution_count": 18
        }
      ]
    },
    {
      "cell_type": "code",
      "metadata": {
        "id": "9tVzOVEz9eIY",
        "colab_type": "code",
        "outputId": "d4e95b0f-2e86-418d-c05f-36717bf5fcbe",
        "colab": {
          "base_uri": "https://localhost:8080/",
          "height": 278
        }
      },
      "source": [
        "trains=[]\n",
        "for i in range(len(test)):\n",
        "  trains.append(1-test[i])\n",
        "import matplotlib.pyplot as plt\n",
        "plt.plot(trains, acc)\n",
        "plt.ylabel('accuracy')\n",
        "plt.xlabel('Training size')\n",
        "plt.show()"
      ],
      "execution_count": 19,
      "outputs": [
        {
          "output_type": "display_data",
          "data": {
            "image/png": "[encoded data removed]",
            "text/plain": [
              "<Figure size 432x288 with 1 Axes>"
            ]
          },
          "metadata": {
            "tags": []
          }
        }
      ]
    },
    {
      "cell_type": "code",
      "metadata": {
        "id": "wcPa6YEn-JCf",
        "colab_type": "code",
        "colab": {}
      },
      "source": [
        ""
      ],
      "execution_count": 0,
      "outputs": []
    }
  ]
}